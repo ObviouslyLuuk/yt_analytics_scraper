{
 "cells": [
  {
   "cell_type": "markdown",
   "metadata": {},
   "source": [
    "GET VERSION OF CHROME"
   ]
  },
  {
   "cell_type": "code",
   "execution_count": null,
   "metadata": {},
   "outputs": [],
   "source": [
    "from util.os_manager import OperationSystemManager, ChromeType"
   ]
  },
  {
   "cell_type": "code",
   "execution_count": null,
   "metadata": {},
   "outputs": [],
   "source": [
    "# Get browser version from OS:\n",
    "OS_manager = OperationSystemManager()\n",
    "browser_version = OS_manager.get_browser_version_from_os(ChromeType.GOOGLE_BETA)\n",
    "print(\"browser_version:\", browser_version)"
   ]
  },
  {
   "cell_type": "markdown",
   "metadata": {},
   "source": [
    "GET CORRECT DRIVER"
   ]
  },
  {
   "cell_type": "code",
   "execution_count": null,
   "metadata": {},
   "outputs": [],
   "source": [
    "from util.chromedriver_manager import ChromeDriverManager"
   ]
  },
  {
   "cell_type": "code",
   "execution_count": null,
   "metadata": {},
   "outputs": [],
   "source": [
    "manager = ChromeDriverManager()\n",
    "\n",
    "# Tests for ChromeDriver\n",
    "print(\"OS type: \", manager.get_os_type())\n",
    "print(\"Browser type: \", manager.driver.get_browser_type())\n",
    "print(\"Browser version: \", manager.driver.get_browser_version_from_os())\n",
    "print(\"Binary name: \", manager.driver.get_binary_name(manager.get_os_type()))\n",
    "print(\"Driver download url: \", manager.driver.get_driver_download_url(manager.get_os_type()))\n",
    "print(\"Latest release version: \", manager.driver.get_latest_release_version())"
   ]
  },
  {
   "cell_type": "code",
   "execution_count": null,
   "metadata": {},
   "outputs": [],
   "source": [
    "# Tests for ChromeDriverManager\n",
    "print(\"Driver binary path: \", manager._get_driver_binary_path(manager.driver))"
   ]
  },
  {
   "cell_type": "markdown",
   "metadata": {},
   "source": [
    "TEST DRIVER"
   ]
  },
  {
   "cell_type": "code",
   "execution_count": null,
   "metadata": {},
   "outputs": [],
   "source": [
    "from util.helpers import startWebdriver"
   ]
  },
  {
   "cell_type": "code",
   "execution_count": null,
   "metadata": {},
   "outputs": [],
   "source": [
    "# Test without profile\n",
    "\"\"\" If you get the following errors, try restarting the kernel and running this cell again. \n",
    "Seems to be caused by launching two instances of chromedriver at once.\n",
    "PermissionError: [Errno 13] Permission denied: 'C:\\\\Users\\\\321lu\\\\.wdm\\\\drivers\\\\chromedriver\\\\win64\\\\116.0.5845.62\\\\chromedriver-win32\\\\chromedriver.exe'\n",
    "PermissionError: [WinError 5] Access is denied: 'C:\\\\Users\\\\321lu\\\\.wdm\\\\drivers\\\\chromedriver\\\\win64\\\\116.0.5845.62\\\\chromedriver-win32\\\\chromedriver.exe' -> 'C:\\\\Users\\\\321lu\\\\.wdm\\\\drivers\\\\chromedriver\\\\win64\\\\116.0.5845.62\\\\chromedriver.exe'\n",
    "\"\"\"\n",
    "driver = startWebdriver(use_profile=False, printing=True)\n",
    "driver.get(\"https://www.pictureofhotdog.com/\")\n",
    "driver.quit()"
   ]
  },
  {
   "cell_type": "code",
   "execution_count": null,
   "metadata": {},
   "outputs": [],
   "source": [
    "# Negative test (using old chromedriver version)\n",
    "\"\"\"Should give error:\n",
    "Message: session not created: This version of ChromeDriver only supports Chrome version 107\n",
    "Current browser version is 116.0.5845.62 with binary path C:\\Program Files\\Google\\Chrome Beta\\Application\\chrome.exe\n",
    "\"\"\"\n",
    "try:\n",
    "    driver = startWebdriver(chromedriver_path='C:\\\\chromedriver\\\\chromedriver_107', use_profile=False, printing=True)\n",
    "    driver.get(\"https://www.pictureofhotdog.com/\")\n",
    "except Exception as e:\n",
    "    print(e)\n",
    "    print('Negative test (using old chromedriver version) passed.')\n",
    "finally:\n",
    "    driver.quit()"
   ]
  },
  {
   "cell_type": "code",
   "execution_count": null,
   "metadata": {},
   "outputs": [],
   "source": [
    "# Test with profile\n",
    "# If this fails the user data is probably corrupt or missing, but doesn't seem common\n",
    "driver = startWebdriver(printing=True)\n",
    "driver.get(\"https://www.pictureofhotdog.com/\")\n",
    "driver.quit()"
   ]
  },
  {
   "cell_type": "markdown",
   "metadata": {},
   "source": [
    "TEST CHROME PROFILE"
   ]
  },
  {
   "cell_type": "code",
   "execution_count": null,
   "metadata": {},
   "outputs": [],
   "source": [
    "from util.helpers import startWebdriver\n",
    "from util.helpers import test_YouTube_login"
   ]
  },
  {
   "cell_type": "code",
   "execution_count": null,
   "metadata": {},
   "outputs": [],
   "source": [
    "# Test YouTube login\n",
    "# This can lead to a signin page which we can't get past\n",
    "# except by manually logging in (to Chrome Beta) without using chromedriver, and then updating the User Data folder (using refresh_user_data.bat).\n",
    "try:\n",
    "    driver = startWebdriver()\n",
    "    test_YouTube_login(driver, printing=True)\n",
    "finally:\n",
    "    driver.quit()\n",
    "print(\"Success\")"
   ]
  },
  {
   "cell_type": "code",
   "execution_count": null,
   "metadata": {},
   "outputs": [],
   "source": [
    "# Negative test (not using the profile)\n",
    "\"\"\"Should fail because the profile is not logged in to YouTube\"\"\"\n",
    "test_email = False # False to not send email\n",
    "try:\n",
    "    driver = startWebdriver(use_profile=False)\n",
    "    test_YouTube_login(driver, email=test_email, printing=True)\n",
    "except Exception as e:\n",
    "    print(e)\n",
    "    print(\"Failed as expected\")\n",
    "finally:\n",
    "    driver.quit()"
   ]
  },
  {
   "cell_type": "code",
   "execution_count": null,
   "metadata": {},
   "outputs": [],
   "source": [
    "from util.log_videos import scrape_recent_video_ids\n",
    "\n",
    "# Test scraping video ids\n",
    "# This will get a TimeoutException saying \"Message:\" if the login above failed, because the elements won't load\n",
    "try:\n",
    "    driver = startWebdriver()\n",
    "    output = scrape_recent_video_ids(driver)\n",
    "finally:\n",
    "    driver.quit()\n",
    "\n",
    "print(\"Success\")\n",
    "print(output)"
   ]
  },
  {
   "cell_type": "markdown",
   "metadata": {},
   "source": [
    "TEST AMNESTY VIDEO DATA VIEWER"
   ]
  },
  {
   "cell_type": "code",
   "execution_count": null,
   "metadata": {},
   "outputs": [],
   "source": [
    "# Import WebDriverWait, By, EC, TimeoutException\n",
    "import datetime as dt\n",
    "\n",
    "from util.helpers import startWebdriver\n",
    "from util.log_videos import scrape_videos_basics_by_dataviewer"
   ]
  },
  {
   "cell_type": "code",
   "execution_count": null,
   "metadata": {},
   "outputs": [],
   "source": [
    "# Test Amnesty Video Data Viewer\n",
    "test_id = \"6SQdNjSUVuc\"\n",
    "correct_title = \"Haircut ASMR but You're a Plant (Obviously)\"\n",
    "correct_datetime = dt.datetime(2023, 7, 26, 19, 30, 0)\n",
    "\n",
    "driver = startWebdriver()\n",
    "try:\n",
    "    videos = scrape_videos_basics_by_dataviewer(driver, [test_id])\n",
    "finally:\n",
    "    driver.quit()\n",
    "\n",
    "display(videos)"
   ]
  },
  {
   "cell_type": "code",
   "execution_count": null,
   "metadata": {},
   "outputs": [],
   "source": [
    "# Test Amnesty Video Data Viewer with more videos\n",
    "test_ids = ['h1MsqH5dxCU', '6SQdNjSUVuc', 'qLIjpyVNORc', 'hzPs_owbyBc', 'V1-mU98FIOU']\n",
    "\n",
    "driver = startWebdriver()\n",
    "try:\n",
    "    videos = scrape_videos_basics_by_dataviewer(driver, test_ids)\n",
    "finally:\n",
    "    driver.quit()\n",
    "\n",
    "display(videos)"
   ]
  },
  {
   "cell_type": "markdown",
   "metadata": {},
   "source": [
    "TEST GETTING DATETIME FROM SINCE_PUBLISH"
   ]
  },
  {
   "cell_type": "code",
   "execution_count": null,
   "metadata": {},
   "outputs": [],
   "source": [
    "import datetime as dt\n",
    "from util.helpers import startWebdriver\n",
    "from util.log_videos import scrape_videos_basics_by_analytics"
   ]
  },
  {
   "cell_type": "code",
   "execution_count": null,
   "metadata": {},
   "outputs": [],
   "source": [
    "test_id = \"6SQdNjSUVuc\"\n",
    "correct_datetime = dt.datetime(2023, 7, 26, 19, 30, 0)\n",
    "\n",
    "driver = startWebdriver()\n",
    "try:\n",
    "    videos = scrape_videos_basics_by_analytics(driver, [test_id])\n",
    "finally:\n",
    "    driver.quit()\n",
    "\n",
    "display(videos)  "
   ]
  },
  {
   "cell_type": "code",
   "execution_count": null,
   "metadata": {},
   "outputs": [],
   "source": [
    "test_ids = ['h1MsqH5dxCU', '6SQdNjSUVuc', 'qLIjpyVNORc', 'hzPs_owbyBc', 'V1-mU98FIOU']\n",
    "\n",
    "driver = startWebdriver()\n",
    "try:\n",
    "    videos = scrape_videos_basics_by_analytics(driver, test_ids)\n",
    "finally:\n",
    "    driver.quit()\n",
    "\n",
    "display(videos)"
   ]
  }
 ],
 "metadata": {
  "kernelspec": {
   "display_name": "Python 3",
   "language": "python",
   "name": "python3"
  },
  "language_info": {
   "codemirror_mode": {
    "name": "ipython",
    "version": 3
   },
   "file_extension": ".py",
   "mimetype": "text/x-python",
   "name": "python",
   "nbconvert_exporter": "python",
   "pygments_lexer": "ipython3",
   "version": "3.7.9"
  },
  "orig_nbformat": 4
 },
 "nbformat": 4,
 "nbformat_minor": 2
}
