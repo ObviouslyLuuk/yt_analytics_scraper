{
 "cells": [
  {
   "cell_type": "code",
   "execution_count": null,
   "metadata": {},
   "outputs": [],
   "source": [
    "# For parsing and saving\n",
    "import json\n",
    "import datetime as dt\n",
    "import csv\n",
    "import sys\n",
    "import os\n",
    "import time\n",
    "\n",
    "from selenium import webdriver\n",
    "from selenium.webdriver.chrome.options import Options\n",
    "from webdriver_manager.chrome import ChromeDriverManager\n",
    "\n",
    "from pprint import pprint\n",
    "\n",
    "from util.helpers import startWebdriver, get_logging_decorator\n",
    "from util.log_videos import update_video_log\n",
    "\n",
    "from util.custom_values import DATA_DIR, CHANNEL_ID, CHROMEDRIVER_PATH, USER_DATA_PATH, CHROME_PROFILE\n",
    "from util.constants import METRICS, TimePeriod, TRAFFIC_SOURCES_IMP, \\\n",
    "    TRAFFIC_SOURCES, TRAFFIC_SOURCES_INV, Dimensions, ADV_URL"
   ]
  },
  {
   "cell_type": "code",
   "execution_count": null,
   "metadata": {},
   "outputs": [],
   "source": [
    "update_video_log()"
   ]
  },
  {
   "cell_type": "code",
   "execution_count": null,
   "metadata": {},
   "outputs": [],
   "source": [
    "CHROMEDRIVER_PATH = 'C:\\\\chromedriver\\\\chromedriver_107'\n",
    "\n",
    "def startWebdriver() -> webdriver.Chrome:\n",
    "    \"\"\"Starts the selenium webdriver and adds options\"\"\"\n",
    "\n",
    "    chrome_options = Options()\n",
    "    chrome_options.add_argument(\"--disable-extensions\")\n",
    "    chrome_options.add_argument(\"--disable-gpu\")\n",
    "    chrome_options.add_argument(\"user-data-dir=\"+USER_DATA_PATH)\n",
    "    chrome_options.add_argument(\"profile-directory=\"+CHROME_PROFILE)\n",
    "    chrome_options.add_argument(\"--start-maximized\")\n",
    "    chrome_options.add_argument(\"disable-infobars\")\n",
    "    chrome_options.binary_location = \"C:\\Program Files\\Google\\Chrome Beta\\Application\\chrome.exe\"\n",
    "\n",
    "    return webdriver.Chrome(CHROMEDRIVER_PATH, options=chrome_options)\n",
    "\n",
    "driver = startWebdriver()\n",
    "driver.get(\"https://www.pictureofhotdog.com/\")\n",
    "driver.quit()"
   ]
  },
  {
   "cell_type": "code",
   "execution_count": null,
   "metadata": {},
   "outputs": [],
   "source": [
    "ChromeDriverManager().driver.get_url()"
   ]
  },
  {
   "cell_type": "code",
   "execution_count": null,
   "metadata": {},
   "outputs": [],
   "source": [
    "from util.api_scrape import scrape_channels_info"
   ]
  },
  {
   "cell_type": "code",
   "execution_count": null,
   "metadata": {},
   "outputs": [],
   "source": [
    "driver = startWebdriver()\n",
    "output = scrape_channels_info(driver, [CHANNEL_ID]*5)\n",
    "output"
   ]
  },
  {
   "cell_type": "markdown",
   "metadata": {},
   "source": [
    "YT ANALYTICS SCRAPE TEST"
   ]
  },
  {
   "cell_type": "code",
   "execution_count": null,
   "metadata": {},
   "outputs": [],
   "source": [
    "# Selenium stuff\n",
    "# For a custom wait\n",
    "from selenium.common.exceptions import NoSuchElementException, TimeoutException\n",
    "from selenium.webdriver.common.by import By\n",
    "from selenium.webdriver.support.ui import WebDriverWait\n",
    "from selenium.webdriver.support import expected_conditions as EC\n",
    "\n",
    "from util.log_videos import adjust_video_log, get_videos, update_video_log"
   ]
  },
  {
   "cell_type": "code",
   "execution_count": null,
   "metadata": {},
   "outputs": [],
   "source": [
    "def scrape(driver) -> list:\n",
    "    \"\"\"Scrapes YouTube analytics from the chart\"\"\"\n",
    "    # Css selectors\n",
    "    element_css = 'yta-line-chart-base'\n",
    "\n",
    "    # Wait 10 seconds for the line element to show up\n",
    "    WebDriverWait(driver, 10).until(\n",
    "        EC.presence_of_element_located((By.CSS_SELECTOR, element_css))\n",
    "    )\n",
    "    data = []\n",
    "    totals_data = driver.execute_script(\"return document.querySelector('#explore-app > yta-explore-deep-dive').fetchedData.data.chartProperties.mainMetricData.data[0].totalsSeries\")\n",
    "    series_data_array = driver.execute_script(\"return Array.from( document.querySelector('#explore-app > yta-explore-deep-dive').fetchedData.data.chartProperties.mainMetricData.data[0].series.values() )\")\n",
    "    data.append(totals_data)\n",
    "    data.extend(series_data_array)\n",
    "\n",
    "    return data"
   ]
  },
  {
   "cell_type": "code",
   "execution_count": null,
   "metadata": {},
   "outputs": [],
   "source": [
    "# Scrape data\n",
    "driver = startWebdriver()\n",
    "lines = {}\n",
    "base_url = ADV_URL.format(\n",
    "    video_id=\"wRMVMSysvf4\",\n",
    "    time_period=TimePeriod.first_24h.value,\n",
    "    metric=\"{metric}\",\n",
    "    dimension=\"{dimension}\"\n",
    ")\n",
    "# Get data for totals\n",
    "metric_key, metric_code = \"views\", \"VIEWS\"\n",
    "\n",
    "try:\n",
    "    url = base_url.format(metric=metric_code, dimension=Dimensions.traffic_source.value)\n",
    "    driver.get(url)\n",
    "\n",
    "    data = scrape(driver)\n",
    "finally:\n",
    "    driver.quit()"
   ]
  },
  {
   "cell_type": "code",
   "execution_count": null,
   "metadata": {},
   "outputs": [],
   "source": [
    "names = [category['name'] for category in data]\n",
    "\n",
    "data_dict = {\n",
    "    ca['name']: [\n",
    "        {'rel': point['hovercardInfo']['relativeDateFormatted'], 'x': dt.datetime.fromtimestamp(point['x']/1000, dt.timezone.utc), 'y': point['y']} \n",
    "        for point in ca['data']\n",
    "    ] for ca in data}\n",
    "\n",
    "pprint(data_dict)\n",
    "\n",
    "category_dict = {ca['name']: ca['data'][0]['hovercardInfo']['entityTitle'] for ca in data}\n",
    "pprint(category_dict)"
   ]
  },
  {
   "cell_type": "markdown",
   "metadata": {},
   "source": [
    "GET NEWEST VIDEOS IDs"
   ]
  },
  {
   "cell_type": "code",
   "execution_count": null,
   "metadata": {},
   "outputs": [],
   "source": [
    "VIDEOS_URL = \"https://studio.youtube.com/channel/{channel_id}/videos/{upload_or_live}\"\n",
    "\n",
    "def scrape_latest_video_ids(driver, upload_or_live=\"live\"):\n",
    "    \"\"\"Return list of recent video ids. upload_type can be upload or live. live actually finds all video ids, not just lives, for some reason.\"\"\"\n",
    "    driver.get(VIDEOS_URL.format(channel_id=CHANNEL_ID, upload_or_live=upload_or_live))\n",
    "\n",
    "    WebDriverWait(driver, 10).until(\n",
    "        EC.presence_of_element_located((By.CSS_SELECTOR, \"ytcp-video-list-cell-video\"))\n",
    "    )\n",
    "    return driver.execute_script('return Array.from(document.querySelectorAll(\"ytcp-video-list-cell-video\")).map((e)=>{return e.__data.video.videoId})')\n",
    "\n",
    "driver = startWebdriver()\n",
    "video_ids = scrape_latest_video_ids(driver)\n",
    "driver.quit()"
   ]
  },
  {
   "cell_type": "code",
   "execution_count": null,
   "metadata": {},
   "outputs": [],
   "source": [
    "video_ids"
   ]
  },
  {
   "cell_type": "code",
   "execution_count": null,
   "metadata": {},
   "outputs": [],
   "source": [
    "from util.api_scrape import switch_to_iframe, execute\n",
    "from util.api_scrape_utils import clean_response\n",
    "import datetime as dt\n",
    "from typing import List, Dict, Union\n",
    "\n",
    "API_VIDEOS_URL = \"https://developers.google.com/youtube/v3/docs/videos/list?apix=true\"\n",
    "\n",
    "def scrape_videos(driver, video_ids: List[str]) -> Dict[str, Dict[str,Union[str,dt.datetime]]]:\n",
    "    \"\"\"\n",
    "    Return dictionary of video upload date and title by video id.\n",
    "    \"\"\"\n",
    "    videos = {}\n",
    "\n",
    "    try:\n",
    "        driver.get(API_VIDEOS_URL)\n",
    "\n",
    "        switch_to_iframe(driver)\n",
    "        \n",
    "        # Enter arguments\n",
    "        driver.find_element(By.ID, \"part[0]\").send_keys(\"snippet\") # Enter parts\n",
    "        driver.find_element(By.CSS_SELECTOR, \"label.mat-checkbox-layout\").click() # Disable auth\n",
    "\n",
    "        for vid_id in video_ids:\n",
    "            # Enter playlist id\n",
    "            element = driver.find_element(By.ID, f\"id[0]\")\n",
    "            element.clear()\n",
    "            element.send_keys(vid_id)\n",
    "\n",
    "            # Get result in json string\n",
    "            json_string = clean_response(execute(driver))\n",
    "\n",
    "            # Parse each video json into our format\n",
    "            title = json_string.split('\"title\": \"')[1].split(\"\\n\")[0][:-2]\n",
    "            date_string = json_string.split('\"publishedAt\": \"')[1][:20] # 20 is the length of 2022-10-24T15:00:24Z\n",
    "            date = dt.datetime.strptime(date_string[:16], \"%Y-%m-%dT%H:%M\")\n",
    "            videos[vid_id] = {\n",
    "                \"title\": title,\n",
    "                \"date\": date,\n",
    "            }\n",
    "    finally:\n",
    "        driver.quit()\n",
    "        return videos"
   ]
  },
  {
   "cell_type": "code",
   "execution_count": null,
   "metadata": {},
   "outputs": [],
   "source": [
    "driver = startWebdriver()\n",
    "videos = scrape_videos(driver, video_ids)"
   ]
  },
  {
   "cell_type": "code",
   "execution_count": null,
   "metadata": {},
   "outputs": [],
   "source": [
    "videos"
   ]
  }
 ],
 "metadata": {
  "kernelspec": {
   "display_name": "Python 3.7.9 64-bit",
   "language": "python",
   "name": "python3"
  },
  "language_info": {
   "codemirror_mode": {
    "name": "ipython",
    "version": 3
   },
   "file_extension": ".py",
   "mimetype": "text/x-python",
   "name": "python",
   "nbconvert_exporter": "python",
   "pygments_lexer": "ipython3",
   "version": "3.7.9"
  },
  "orig_nbformat": 4,
  "vscode": {
   "interpreter": {
    "hash": "b74cd7db1eb9f8499da7dbef20678a005a07ab79df7dd49707a224686fb33242"
   }
  }
 },
 "nbformat": 4,
 "nbformat_minor": 2
}
