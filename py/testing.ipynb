{
 "cells": [
  {
   "cell_type": "code",
   "execution_count": null,
   "metadata": {},
   "outputs": [],
   "source": [
    "# For parsing and saving\n",
    "import datetime as dt\n",
    "import csv\n",
    "\n",
    "from pprint import pprint\n",
    "\n",
    "from util.helpers import startWebdriver\n",
    "from util.log_videos import update_video_log\n",
    "\n",
    "from util.custom_values import DATA_DIR, CHANNEL_ID, CHROMEDRIVER_PATH, USER_DATA_PATH, CHROME_PROFILE\n",
    "from util.constants import METRICS, TimePeriod, TRAFFIC_SOURCES_IMP, \\\n",
    "    TRAFFIC_SOURCES, TRAFFIC_SOURCES_INV, Dimensions, ADV_URL, VIDEOS_URL, VIDEO_URL"
   ]
  },
  {
   "cell_type": "code",
   "execution_count": null,
   "metadata": {},
   "outputs": [],
   "source": [
    "from util.api_scrape import scrape_channels_info"
   ]
  },
  {
   "cell_type": "code",
   "execution_count": null,
   "metadata": {},
   "outputs": [],
   "source": [
    "driver = startWebdriver()\n",
    "output = scrape_channels_info(driver, [CHANNEL_ID]*5)\n",
    "output"
   ]
  },
  {
   "cell_type": "markdown",
   "metadata": {},
   "source": [
    "TESTING API SCRAPING"
   ]
  },
  {
   "cell_type": "code",
   "execution_count": null,
   "metadata": {},
   "outputs": [],
   "source": [
    "from util.api_scrape import switch_to_iframe, execute\n",
    "from util.api_scrape_utils import clean_response, parse_video_item_str\n",
    "import datetime as dt\n",
    "from typing import List, Dict, Union\n",
    "\n",
    "API_URL = \"https://developers.google.com/youtube/v3/docs/{mode}/list?apix=true\"\n",
    "\n",
    "def scrape_videos_basics_by_api(driver, video_ids: List[str]) -> Dict[str, Dict[str,Union[str,dt.datetime]]]:\n",
    "    \"\"\"\n",
    "    Return dictionary of video upload date and title by video id.\n",
    "    \"\"\"\n",
    "    videos = {}\n",
    "\n",
    "    try:\n",
    "        driver.get(API_URL.format(mode=\"videos\"))\n",
    "\n",
    "        switch_to_iframe(driver)\n",
    "        \n",
    "        # Enter arguments\n",
    "        driver.find_element(By.ID, \"part[0]\").send_keys(\"snippet\") # Enter parts\n",
    "        driver.find_element(By.CSS_SELECTOR, \"label.mat-checkbox-layout\").click() # Disable auth\n",
    "\n",
    "        for vid_id in video_ids:\n",
    "            # Enter playlist id\n",
    "            element = driver.find_element(By.ID, f\"id[0]\")\n",
    "            element.clear()\n",
    "            element.send_keys(vid_id)\n",
    "\n",
    "            # Get result in json string\n",
    "            json_string = clean_response(execute(driver))\n",
    "\n",
    "            # Parse the video json into our format\n",
    "            video_dict = parse_video_item_str(json_string)\n",
    "            if not video_dict:\n",
    "                print(f\"Couldn't find {vid_id}: might be private [{__file__}]\")\n",
    "                continue\n",
    "            videos[vid_id] = video_dict\n",
    "    except Exception as e:\n",
    "        print(\"error whilst scraping video info from YouTube api: \", e, f\"[{__file__}]\")\n",
    "    finally:\n",
    "        # driver.quit()\n",
    "        return videos"
   ]
  },
  {
   "cell_type": "code",
   "execution_count": null,
   "metadata": {},
   "outputs": [],
   "source": [
    "driver = startWebdriver()\n",
    "videos = scrape_videos_basics_by_api(driver, video_ids)\n",
    "\n",
    "display(videos)"
   ]
  },
  {
   "cell_type": "code",
   "execution_count": null,
   "metadata": {},
   "outputs": [],
   "source": []
  }
 ],
 "metadata": {
  "kernelspec": {
   "display_name": "Python 3.7.9 64-bit",
   "language": "python",
   "name": "python3"
  },
  "language_info": {
   "codemirror_mode": {
    "name": "ipython",
    "version": 3
   },
   "file_extension": ".py",
   "mimetype": "text/x-python",
   "name": "python",
   "nbconvert_exporter": "python",
   "pygments_lexer": "ipython3",
   "version": "3.7.9"
  },
  "orig_nbformat": 4,
  "vscode": {
   "interpreter": {
    "hash": "b74cd7db1eb9f8499da7dbef20678a005a07ab79df7dd49707a224686fb33242"
   }
  }
 },
 "nbformat": 4,
 "nbformat_minor": 2
}
